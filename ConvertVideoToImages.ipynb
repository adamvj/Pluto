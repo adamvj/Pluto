{
 "cells": [
  {
   "cell_type": "code",
   "execution_count": 1,
   "id": "e40d7e1e-9efe-4621-81c1-2bed9e0cc4b1",
   "metadata": {},
   "outputs": [],
   "source": [
    "import cv2     # for capturing videos\n",
    "import math   # for mathematical operations\n",
    "import matplotlib.pyplot as plt    # for plotting the images\n",
    "%matplotlib inline\n",
    "import pandas as pd\n",
    "from keras.preprocessing import image   # for preprocessing the images\n",
    "import numpy as np    # for mathematical operations\n",
    "from keras.utils import np_utils\n",
    "from skimage.transform import resize   # for resizing images"
   ]
  },
  {
   "cell_type": "code",
   "execution_count": 2,
   "id": "35c6ca84-53b8-4fc6-be45-4ff71dff5c61",
   "metadata": {},
   "outputs": [
    {
     "name": "stdout",
     "output_type": "stream",
     "text": [
      "Starting\n",
      "./data/IMG_5323.MP4\n",
      "./data/IMG_5324.MP4\n",
      "./data/IMG_5325.MP4\n",
      "./data/IMG_5326.MP4\n",
      "./data/IMG_5327.MP4\n",
      "./data/IMG_5328.MP4\n",
      "./data/IMG_5329.MP4\n",
      "./data/IMG_5330.MP4\n",
      "./data/IMG_5333.MP4\n",
      "./data/IMG_5334.MP4\n",
      "./data/IMG_5335.MP4\n",
      "./data/IMG_5336.MP4\n",
      "./data/IMG_5338.MP4\n",
      "./data/IMG_5339.MP4\n",
      "./data/IMG_5340.MP4\n",
      "./data/IMG_5341.MP4\n",
      "./data/IMG_5342.MP4\n",
      "./data/IMG_5343.MP4\n",
      "./data/IMG_5344.MP4\n",
      "./data/IMG_5345.MP4\n",
      "./data/IMG_5346.MP4\n",
      "./data/IMG_5347.MP4\n",
      "./data/IMG_5348.MP4\n",
      "./data/IMG_5349.MP4\n",
      "./data/IMG_5350.MP4\n",
      "./data/IMG_5351.MP4\n",
      "./data/IMG_5352.MP4\n",
      "./data/IMG_5353.MP4\n",
      "./data/IMG_5354.MP4\n",
      "./data/IMG_5355.MP4\n",
      "./data/IMG_5356.MP4\n",
      "./data/IMG_5357.MP4\n",
      "./data/IMG_5358.MP4\n",
      "Done!\n"
     ]
    }
   ],
   "source": [
    "print (\"Starting\")\n",
    "count = 16\n",
    "videoFiles = [\"IMG_5323.MP4\", \"IMG_5324.MP4\", \"IMG_5325.MP4\", \"IMG_5326.MP4\", \"IMG_5327.MP4\", \"IMG_5328.MP4\",\"IMG_5329.MP4\",\"IMG_5330.MP4\",\"IMG_5333.MP4\",\"IMG_5334.MP4\",\"IMG_5335.MP4\",\"IMG_5336.MP4\",\"IMG_5338.MP4\",\"IMG_5339.MP4\",\"IMG_5340.MP4\",\"IMG_5341.MP4\",\"IMG_5342.MP4\",\"IMG_5343.MP4\",\"IMG_5344.MP4\",\"IMG_5345.MP4\",\"IMG_5346.MP4\",\"IMG_5347.MP4\",\"IMG_5348.MP4\",\"IMG_5349.MP4\",\"IMG_5350.MP4\",\"IMG_5351.MP4\",\"IMG_5352.MP4\",\"IMG_5353.MP4\",\"IMG_5354.MP4\",\"IMG_5355.MP4\",\"IMG_5356.MP4\",\"IMG_5357.MP4\",\"IMG_5358.MP4\"]\n",
    "for y in videoFiles:\n",
    "    videoFile = \"./data/\"+y\n",
    "    print(videoFile)\n",
    "    cap = cv2.VideoCapture(videoFile)   # capturing the video from the given path\n",
    "    frameRate = cap.get(5) #frame rate\n",
    "    x=1\n",
    "    while(cap.isOpened()):\n",
    "        frameId = cap.get(1) #current frame number\n",
    "        ret, frame = cap.read()\n",
    "        if (ret != True):\n",
    "            break\n",
    "        if (frameId % math.floor(frameRate) == 0):\n",
    "            filename =\"./data/anxiousPluto/frame%d.jpg\" % count;count+=1\n",
    "            cv2.imwrite(filename, frame)\n",
    "    cap.release()\n",
    "print (\"Done!\")"
   ]
  },
  {
   "cell_type": "code",
   "execution_count": null,
   "id": "c826eb82-53e9-4e19-8be1-768afe957a1d",
   "metadata": {},
   "outputs": [],
   "source": []
  }
 ],
 "metadata": {
  "kernelspec": {
   "display_name": "pluto:Python",
   "language": "python",
   "name": "conda-env-pluto-py"
  },
  "language_info": {
   "codemirror_mode": {
    "name": "ipython",
    "version": 3
   },
   "file_extension": ".py",
   "mimetype": "text/x-python",
   "name": "python",
   "nbconvert_exporter": "python",
   "pygments_lexer": "ipython3",
   "version": "3.9.9"
  }
 },
 "nbformat": 4,
 "nbformat_minor": 5
}
